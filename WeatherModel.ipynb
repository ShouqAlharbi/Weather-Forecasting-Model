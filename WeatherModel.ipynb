{
  "nbformat": 4,
  "nbformat_minor": 0,
  "metadata": {
    "colab": {
      "provenance": []
    },
    "kernelspec": {
      "name": "python3",
      "display_name": "Python 3"
    },
    "language_info": {
      "name": "python"
    }
  },
  "cells": [
    {
      "cell_type": "markdown",
      "metadata": {
        "id": "_6Q3UaUGY4nx"
      },
      "source": [
        "# <font color='48B3C1'>**Machine Learning Model**</font>\n",
        "\n",
        "\n",
        "\n"
      ]
    },
    {
      "cell_type": "markdown",
      "metadata": {
        "id": "O3EDI8KF9D5e"
      },
      "source": [
        "### <font color='B048C1'>**import package**</font>"
      ]
    },
    {
      "cell_type": "code",
      "execution_count": 1,
      "metadata": {
        "id": "Q6_4b-4gZVvv"
      },
      "outputs": [],
      "source": [
        "import numpy as np\n",
        "import matplotlib.pyplot as plt\n",
        "import pandas as pd\n",
        "import seaborn as sns\n",
        "from sklearn.metrics import accuracy_score\n",
        "from sklearn import preprocessing\n",
        "from sklearn.linear_model import LinearRegression\n",
        "from sklearn.linear_model import LogisticRegression\n",
        "from sklearn.tree import DecisionTreeRegressor \n",
        "from sklearn.preprocessing import StandardScaler\n",
        "from sklearn.model_selection import train_test_split\n",
        "from sklearn.metrics import mean_absolute_error\n",
        "from sklearn.metrics import r2_score\n",
        "from sklearn.metrics import mean_squared_error\n",
        "from sklearn.metrics import mean_absolute_error\n",
        "from sklearn.metrics import plot_confusion_matrix\n",
        "from sklearn.metrics import confusion_matrix\n",
        "from sklearn.metrics import classification_report\n",
        "import warnings\n",
        "warnings.filterwarnings('ignore') "
      ]
    },
    {
      "cell_type": "markdown",
      "source": [
        "### <font color='B048C1'>**Loading the exported data after preprocessing**</font>"
      ],
      "metadata": {
        "id": "Uf2YhQbv7aLM"
      }
    },
    {
      "cell_type": "code",
      "source": [
        "df= pd.read_csv('/content/df_all.csv') "
      ],
      "metadata": {
        "id": "FQ1ddytD7ZfA"
      },
      "execution_count": 19,
      "outputs": []
    },
    {
      "cell_type": "code",
      "source": [
        "df_all=df.sample(n=300000) # the total number of data 1000000 and will take 300000 as number of sample"
      ],
      "metadata": {
        "id": "a6aR9fzBCZYI"
      },
      "execution_count": 20,
      "outputs": []
    },
    {
      "cell_type": "markdown",
      "metadata": {
        "id": "UWo011paCZd4"
      },
      "source": [
        "## <font color='B048C1'>**Model 1: Regression**</font>"
      ]
    },
    {
      "cell_type": "markdown",
      "metadata": {
        "id": "RLFlbzWLuG5X"
      },
      "source": [
        "<font color='black'>**Predict the suitable air temperature for the specific  plants**</font>\n",
        "\n"
      ]
    },
    {
      "cell_type": "markdown",
      "metadata": {
        "id": "PDsIorOg9dOn"
      },
      "source": [
        "* <font color='B048C1'>**select the input features and target feature**</font>"
      ]
    },
    {
      "cell_type": "code",
      "execution_count": 22,
      "metadata": {
        "id": "m8b5KoHIY3sc"
      },
      "outputs": [],
      "source": [
        "X=df_all[['STATION_NAME','ELEVATION','WIND_SPEED_RATE','SKY_CAVOK','Crop','TEMP_MIN',\t'TEMP_MAX']]\n",
        "Y=df_all['AIR_TEMPERATURE']"
      ]
    },
    {
      "cell_type": "markdown",
      "metadata": {
        "id": "XafwZwSG9nOA"
      },
      "source": [
        "* <font color='B048C1'>**split the data**</font>"
      ]
    },
    {
      "cell_type": "code",
      "execution_count": 23,
      "metadata": {
        "id": "mhI2EeMIY4DD"
      },
      "outputs": [],
      "source": [
        "X_train, X_test, Y_train, Y_test = train_test_split(X, Y, test_size = 0.25, random_state = 0)"
      ]
    },
    {
      "cell_type": "markdown",
      "metadata": {
        "id": "uvVAuxwU99Ln"
      },
      "source": [
        "* <font color='B048C1'>**make a scaler to the data before train in the model**</font>"
      ]
    },
    {
      "cell_type": "code",
      "execution_count": 24,
      "metadata": {
        "id": "jF4es9gZZSwe"
      },
      "outputs": [],
      "source": [
        "sc = StandardScaler()\n",
        "\n",
        "\n",
        "X_train = sc.fit_transform(X_train)\n",
        "X_test = sc.transform(X_test)"
      ]
    },
    {
      "cell_type": "markdown",
      "metadata": {
        "id": "Ot7o6YC198nd"
      },
      "source": [
        "* <font color='B048C1'>**Trian the data to the Linear Regression Model**</font>"
      ]
    },
    {
      "cell_type": "code",
      "execution_count": 25,
      "metadata": {
        "colab": {
          "base_uri": "https://localhost:8080/"
        },
        "id": "BCACR-oMZS3v",
        "outputId": "948c5876-e59b-4a34-bd52-a29fc75c7e1d"
      },
      "outputs": [
        {
          "output_type": "execute_result",
          "data": {
            "text/plain": [
              "LinearRegression()"
            ]
          },
          "metadata": {},
          "execution_count": 25
        }
      ],
      "source": [
        "regressorModel1 = LinearRegression()\n",
        "regressorModel1.fit(X_train, Y_train)"
      ]
    },
    {
      "cell_type": "markdown",
      "metadata": {
        "id": "4e71HMH0C40e"
      },
      "source": [
        "* <font color='B048C1'>**Model Evaluation**</font>"
      ]
    },
    {
      "cell_type": "code",
      "execution_count": 26,
      "metadata": {
        "colab": {
          "base_uri": "https://localhost:8080/"
        },
        "id": "_JFjq7kYZS6k",
        "outputId": "f7bfa430-4da9-45fe-8592-e90e574b87e8"
      },
      "outputs": [
        {
          "output_type": "stream",
          "name": "stdout",
          "text": [
            "Linear Regression\n",
            "\n",
            "In training \n",
            "MSE: 1.074993848810658\n",
            "MAE: 0.598902931727637\n",
            "RMSE: 1.0368191012952346\n",
            "\n",
            "In testing\n",
            "MSE: 1.0727145568226526\n",
            "MAE: 0.5979109206704737\n",
            "RMSE: 1.0357193426902158\n"
          ]
        }
      ],
      "source": [
        "# Calculates the cost functions\n",
        "def calc_cost(y_true, y_predict):\n",
        "    \n",
        "    \"Calculate Cost Functions and print output\"\n",
        "    \n",
        "    result_dict = {}\n",
        "    \n",
        "    mse = mean_squared_error(y_true, y_predict)\n",
        "    mae = mean_absolute_error(y_true, y_predict)\n",
        "    rmse = mean_squared_error(y_true, y_predict, squared=False)\n",
        "    \n",
        "    \n",
        "    ls = [mse, mae, rmse]\n",
        "    ls2 = [\"MSE\", \"MAE\", \"RMSE\"]\n",
        "    \n",
        "    for x in range(len(ls)):\n",
        "        print(f\"{ls2[x]}: {ls[x]}\")\n",
        "        result_dict[ls2[x]] = ls[x]\n",
        "    \n",
        "    return result_dict\n",
        "\n",
        "\n",
        "print(\"Linear Regression\")\n",
        "\n",
        "\n",
        "\n",
        "print(\"\\nIn training \")\n",
        "resTrain = calc_cost(Y_train,  regressorModel1.predict(X_train))\n",
        "\n",
        "print(\"\\nIn testing\")\n",
        "resVal = calc_cost(Y_test,  regressorModel1.predict(X_test))"
      ]
    },
    {
      "cell_type": "code",
      "execution_count": 27,
      "metadata": {
        "colab": {
          "base_uri": "https://localhost:8080/"
        },
        "id": "rHOhhyIr8ODN",
        "outputId": "d8af970e-4a02-4082-b540-19a82c5efb26"
      },
      "outputs": [
        {
          "output_type": "stream",
          "name": "stdout",
          "text": [
            "R2: \n"
          ]
        },
        {
          "output_type": "execute_result",
          "data": {
            "text/plain": [
              "0.9580389079262601"
            ]
          },
          "metadata": {},
          "execution_count": 27
        }
      ],
      "source": [
        "print(\"R2: \")\n",
        "r2_score(y_true=Y_test, y_pred= regressorModel1.predict(X_test))"
      ]
    },
    {
      "cell_type": "markdown",
      "metadata": {
        "id": "pW9mddEaDD0v"
      },
      "source": [
        "## <font color='4884C1'>**Model 2: Classification**</font>"
      ]
    },
    {
      "cell_type": "markdown",
      "metadata": {
        "id": "L27KV-zyu_nz"
      },
      "source": [
        "<font color='black'>**Predict the suitable season for each plant**</font>\n"
      ]
    },
    {
      "cell_type": "markdown",
      "metadata": {
        "id": "OH-QwcT--W0N"
      },
      "source": [
        "* <font color='4884C1'>**Convert the target values into category by bins the data**</font>"
      ]
    },
    {
      "cell_type": "code",
      "execution_count": 28,
      "metadata": {
        "id": "3kvdV7hs-h2D"
      },
      "outputs": [],
      "source": [
        "df_all.loc[df_all['AIR_TEMPERATURE'].between(1, 20), 'Plant_Sesone'] = 'Winter'\n",
        "df_all.loc[df_all['AIR_TEMPERATURE'].between(21, 25), 'Plant_Sesone'] = 'Spring'\n",
        "df_all.loc[df_all['AIR_TEMPERATURE'].between(25, 35), 'Plant_Sesone'] = 'autumn'\n",
        "df_all.loc[df_all['AIR_TEMPERATURE'].between(36, 50), 'Plant_Sesone'] = 'Summer'"
      ]
    },
    {
      "cell_type": "markdown",
      "metadata": {
        "id": "0JmMDpRMDaLs"
      },
      "source": [
        "* <font color='4884C1'>**Select the input features and target feature**</font>"
      ]
    },
    {
      "cell_type": "code",
      "execution_count": 29,
      "metadata": {
        "id": "8lPpiv8M-h-9"
      },
      "outputs": [],
      "source": [
        "X1=df_all[['STATION_NAME','ELEVATION','WIND_SPEED_RATE','SKY_CAVOK','Crop','TEMP_MIN',\t'TEMP_MAX']]\n",
        "Y1=df_all['Plant_Sesone']"
      ]
    },
    {
      "cell_type": "markdown",
      "metadata": {
        "id": "J71M4RqvDjZA"
      },
      "source": [
        "* <font color='4884C1'>**Split the data**</font>"
      ]
    },
    {
      "cell_type": "code",
      "execution_count": 30,
      "metadata": {
        "id": "rm6Vcivh-iIL"
      },
      "outputs": [],
      "source": [
        "X_train, X_test, Y_train, Y_test = train_test_split(X1, Y1, test_size = 0.25, random_state = 0)"
      ]
    },
    {
      "cell_type": "markdown",
      "metadata": {
        "id": "pomIbB_5Dnj7"
      },
      "source": [
        "* <font color='4884C1'>**make a scaler to the data before train in the model**</font>"
      ]
    },
    {
      "cell_type": "code",
      "execution_count": 31,
      "metadata": {
        "id": "6-4UqrDr_iR_"
      },
      "outputs": [],
      "source": [
        "# Feature Engeenring \n",
        "sc = StandardScaler()\n",
        "\n",
        "\n",
        "X_train = sc.fit_transform(X_train)\n",
        "X_test = sc.transform(X_test)"
      ]
    },
    {
      "cell_type": "markdown",
      "metadata": {
        "id": "MGc0nu9EDxur"
      },
      "source": [
        "* <font color='4884C1'>**Trian the data to the Logistic Regression Model**</font>"
      ]
    },
    {
      "cell_type": "code",
      "execution_count": 32,
      "metadata": {
        "colab": {
          "base_uri": "https://localhost:8080/"
        },
        "id": "50DdrfNT_rpc",
        "outputId": "a23b42a2-64d6-45b0-952d-05e80bd8b01e"
      },
      "outputs": [
        {
          "output_type": "execute_result",
          "data": {
            "text/plain": [
              "LogisticRegression()"
            ]
          },
          "metadata": {},
          "execution_count": 32
        }
      ],
      "source": [
        "classifierModel=LogisticRegression()\n",
        "classifierModel.fit(X_train, Y_train)"
      ]
    },
    {
      "cell_type": "markdown",
      "metadata": {
        "id": "Oix-bB0GD_kV"
      },
      "source": [
        "* <font color='4884C1'>**Model Evaluation**</font>"
      ]
    },
    {
      "cell_type": "code",
      "execution_count": 33,
      "metadata": {
        "colab": {
          "base_uri": "https://localhost:8080/"
        },
        "id": "tXDPREcCwhkR",
        "outputId": "7b3f4c64-79ec-4324-f669-8782bd6a54ef"
      },
      "outputs": [
        {
          "output_type": "execute_result",
          "data": {
            "text/plain": [
              "0.9493466666666667"
            ]
          },
          "metadata": {},
          "execution_count": 33
        }
      ],
      "source": [
        "classifierModel.score(X_train, Y_train)"
      ]
    },
    {
      "cell_type": "code",
      "execution_count": 34,
      "metadata": {
        "colab": {
          "base_uri": "https://localhost:8080/"
        },
        "id": "RbZ1bipk_uUL",
        "outputId": "31303de0-e5ce-48d3-9d02-20e986ca5410"
      },
      "outputs": [
        {
          "output_type": "stream",
          "name": "stdout",
          "text": [
            "              precision    recall  f1-score   support\n",
            "\n",
            "      Spring       0.93      0.86      0.89     14964\n",
            "      Summer       0.55      0.66      0.60       596\n",
            "      Winter       0.98      0.99      0.98     32356\n",
            "      autumn       0.94      0.96      0.95     27084\n",
            "\n",
            "    accuracy                           0.95     75000\n",
            "   macro avg       0.85      0.87      0.86     75000\n",
            "weighted avg       0.95      0.95      0.95     75000\n",
            "\n"
          ]
        }
      ],
      "source": [
        "#Predict the model \n",
        "Model1Pred = classifierModel.predict(X_test)\n",
        "print(classification_report(Y_test, Model1Pred))"
      ]
    },
    {
      "cell_type": "code",
      "execution_count": 37,
      "metadata": {
        "colab": {
          "base_uri": "https://localhost:8080/",
          "height": 312
        },
        "id": "Yuienpgm_wmw",
        "outputId": "0583796c-d252-45e7-f78d-408f5e09fb70"
      },
      "outputs": [
        {
          "output_type": "execute_result",
          "data": {
            "text/plain": [
              "Text(0.5, 1.0, 'Logistic Regression Results')"
            ]
          },
          "metadata": {},
          "execution_count": 37
        },
        {
          "output_type": "display_data",
          "data": {
            "text/plain": [
              "<Figure size 432x288 with 2 Axes>"
            ],
            "image/png": "[encoded data removed]"
          },
          "metadata": {
            "needs_background": "light"
          }
        }
      ],
      "source": [
        "Model1Matrix = plot_confusion_matrix(classifierModel, X_test, Y_test, cmap='Blues')\n",
        "Model1Matrix.ax_.set_title('Logistic Regression Results')"
      ]
    }
  ]
}